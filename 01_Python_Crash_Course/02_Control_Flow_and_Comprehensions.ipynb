{
 "cells": [
  {
   "cell_type": "markdown",
   "metadata": {},
   "source": [
    "_____\n",
    "# 02. Python Control Flow\n",
    "_____\n",
    "Certain code blocks conditionally and/or repeatedly, and such control flow allows to create surprisingly sophisticate programs. The following notebook will cover these Python control flow topics:\n",
    "- `input()`\n",
    "- *conditional statements* (including \"``if``\", \"``elif``\", and \"``else``\")\n",
    "- *loop statements* (including \"``for``\" and \"``while``\")\n",
    "- accompanying statements, such as ``break``\", \"``continue``\", and \"``pass``\".\n",
    "_____\n",
    "Go through the notebook, play around with the cells and their outputs, attempt to complete the exercises."
   ]
  },
  {
   "cell_type": "markdown",
   "metadata": {},
   "source": [
    "## User inputs with `input()` \n",
    "Essentially, allows to pass a value to some variable via user inputting."
   ]
  },
  {
   "cell_type": "code",
   "execution_count": null,
   "metadata": {},
   "outputs": [],
   "source": [
    "my_name = input(\"What is your name? \")"
   ]
  },
  {
   "cell_type": "code",
   "execution_count": null,
   "metadata": {},
   "outputs": [],
   "source": [
    "secret_key = input(\"Enter the key \")"
   ]
  },
  {
   "cell_type": "markdown",
   "metadata": {},
   "source": [
    "### `Exercise 1 - Input Formatting`\n",
    "Write a one-liner, which:\n",
    "- Gets the user's first name, last name, and age via `input()`.\n",
    "- Formats these values to a nice-looking strings.\n",
    "- Prints out the string."
   ]
  },
  {
   "cell_type": "code",
   "execution_count": null,
   "metadata": {},
   "outputs": [],
   "source": [
    "print(f'Your name is {input(\"First name: \")} {input(\"Last name: \")}. You are {input(\"Age: \")} years old.')"
   ]
  },
  {
   "cell_type": "markdown",
   "metadata": {},
   "source": [
    "## Conditional Statements: ``if``-``elif``-``else``:\n",
    "Conditional statements, often referred to as *if-then* statements, allow the programmer to execute certain pieces of code depending on some Boolean condition. A basic example of a Python conditional statement is this:"
   ]
  },
  {
   "cell_type": "code",
   "execution_count": null,
   "metadata": {},
   "outputs": [],
   "source": [
    "x = -15\n",
    "\n",
    "if x == 0:\n",
    "    print(x, \"is zero\")\n",
    "elif x > 0:\n",
    "    print(x, \"is positive\")\n",
    "elif x < 0:\n",
    "    print(x, \"is negative\")\n",
    "else:\n",
    "    print(x, \"is unlike anything I've ever seen...\")"
   ]
  },
  {
   "cell_type": "markdown",
   "metadata": {},
   "source": [
    "Note the use of colons (``:``) and whitespace to denote separate blocks of code.\n",
    "\n",
    "Python adopts the ``if`` and ``else`` often used in other languages; its more unique keyword is ``elif``, a contraction of \"else if\". In these conditional clauses, ``elif`` and ``else`` blocks are optional, you can include as many/few as you like;\n",
    "\n",
    "Let's dissect this into pieces for simplicity:"
   ]
  },
  {
   "cell_type": "code",
   "execution_count": null,
   "metadata": {},
   "outputs": [],
   "source": [
    "if 1 < 2:\n",
    "    print('Hi!')"
   ]
  },
  {
   "cell_type": "code",
   "execution_count": null,
   "metadata": {},
   "outputs": [],
   "source": [
    "if 1 > 2:\n",
    "    print('Hi!')"
   ]
  },
  {
   "cell_type": "code",
   "execution_count": null,
   "metadata": {},
   "outputs": [],
   "source": [
    "if 1 < 2:\n",
    "    print('Hi!')\n",
    "else:\n",
    "    print('Bye!')"
   ]
  },
  {
   "cell_type": "code",
   "execution_count": null,
   "metadata": {},
   "outputs": [],
   "source": [
    "if 1 < 2: print('Hi!')\n",
    "else: print('Bye!')"
   ]
  },
  {
   "cell_type": "code",
   "execution_count": null,
   "metadata": {},
   "outputs": [],
   "source": [
    "if 1 > 2:\n",
    "    print('Hi!')\n",
    "else:\n",
    "    print('Bye!')"
   ]
  },
  {
   "cell_type": "code",
   "execution_count": null,
   "metadata": {},
   "outputs": [],
   "source": [
    "if 1 == 2:\n",
    "    print('Hey!')\n",
    "elif 3 == 3:\n",
    "    print('Hello, there!')\n",
    "else:\n",
    "    print('Hi!')"
   ]
  },
  {
   "cell_type": "code",
   "execution_count": null,
   "metadata": {},
   "outputs": [],
   "source": [
    "if 1 == 2:\n",
    "    pass\n",
    "elif 3 == 3:\n",
    "    print('Hello, there!')\n",
    "else:\n",
    "    print('Hi!')"
   ]
  },
  {
   "cell_type": "code",
   "execution_count": null,
   "metadata": {},
   "outputs": [],
   "source": [
    "if 1 == 1:\n",
    "    print('There')\n",
    "elif 1 == 1:\n",
    "    print('can be')\n",
    "else:\n",
    "    print('only one')"
   ]
  },
  {
   "cell_type": "code",
   "execution_count": null,
   "metadata": {},
   "outputs": [],
   "source": [
    "x = -0\n",
    "\n",
    "if x == 0:\n",
    "    print(f\"x is zero\")\n",
    "elif x > 0:\n",
    "    print(f\"x is positive: {x}\")\n",
    "else:\n",
    "    print(f\"x is negative: {x}\")"
   ]
  },
  {
   "cell_type": "markdown",
   "metadata": {},
   "source": [
    "## `for` loops\n",
    "Loops in Python are a way to repeatedly execute some code statement, and the `for` loop is arguably the simplest. To be specific, we only have to specify the variable we want to use, the sequence we want to loop over, and use the \"``in``\" operator to link them together in an intuitive and readable way.\n",
    "\n",
    "E.g., to print each of the items in a list:"
   ]
  },
  {
   "cell_type": "code",
   "execution_count": null,
   "metadata": {},
   "outputs": [],
   "source": [
    "seq = [20, 23, 26, 29, 32, 35, 38]\n",
    "for x in seq:\n",
    "    print(x)"
   ]
  },
  {
   "cell_type": "markdown",
   "metadata": {},
   "source": [
    "More precisely, the object to the right of the \"``in``\" can be any Python *iterator*, which can be thought of as of a generalized sequence (for more info, check [iterators](10-Iterators.ipynb). For example, one of the most commonly-used iterators in Python is the ``range`` object discussed earlier (generates a sequence of numbers). "
   ]
  },
  {
   "cell_type": "markdown",
   "metadata": {},
   "source": [
    "### `Exercise 2 - Sequence & Indices`\n",
    "Print `seq` items with their indices, e.g.:\n",
    "\n",
    "    Index: 0\tValue: 20\n",
    "    Index: 1\tValue: 23\n",
    "    ..."
   ]
  },
  {
   "cell_type": "code",
   "execution_count": null,
   "metadata": {},
   "outputs": [],
   "source": []
  },
  {
   "cell_type": "markdown",
   "metadata": {},
   "source": [
    "### `Exercise 3 - Err...Multiplication Table?...What for?`\n",
    "Write a Python program to create the multiplication table (from 1 to 10) of a single number given by `input()`. Expected Output:\n",
    "\n",
    "    Input a number: 6                                                       \n",
    "    6 x 1 = 6                                                               \n",
    "    6 x 2 = 12                                                              \n",
    "    6 x 3 = 18                                                              \n",
    "    6 x 4 = 24                                                              \n",
    "    6 x 5 = 30                                                              \n",
    "    6 x 6 = 36                                                              \n",
    "    6 x 7 = 42                                                              \n",
    "    6 x 8 = 48                                                              \n",
    "    6 x 9 = 54                                                              \n",
    "    6 x 10 = 60 "
   ]
  },
  {
   "cell_type": "code",
   "execution_count": null,
   "metadata": {},
   "outputs": [],
   "source": []
  },
  {
   "cell_type": "markdown",
   "metadata": {},
   "source": [
    "### `Exercise 4 - Err...Multiplication Table?...Again?`\n",
    "Using `for` and what you've learnt about Python printing, recreate the full multiplication table (from 1 to 10).\n",
    "\n",
    "    1   2   3   4 ..                                                \n",
    "    2   4   6   8 ..\n",
    "    3   6   9 ......  \n",
    "    4   ............\n",
    "    5   ............\n",
    "    ................\n"
   ]
  },
  {
   "cell_type": "code",
   "execution_count": null,
   "metadata": {},
   "outputs": [],
   "source": []
  },
  {
   "cell_type": "markdown",
   "metadata": {},
   "source": [
    "## ``break`` and ``continue``: Fine-Tuning Your Loops\n",
    "There are two useful statements that can be used within loops to fine-tune how they are executed:\n",
    "\n",
    "- The ``break`` statement breaks-out of the loop entirely\n",
    "- The ``continue`` statement skips the remainder of the current loop, and goes to the next iteration\n",
    "\n",
    "These can be used in both ``for`` and ``while`` loops."
   ]
  },
  {
   "cell_type": "code",
   "execution_count": null,
   "metadata": {},
   "outputs": [],
   "source": [
    "for something in seq:\n",
    "    print(something + something)\n",
    "    if something + something == 52:\n",
    "        break"
   ]
  },
  {
   "cell_type": "code",
   "execution_count": null,
   "metadata": {},
   "outputs": [],
   "source": [
    "for x in seq:\n",
    "    if x ** 2 < 900: \n",
    "        continue\n",
    "    print(x)"
   ]
  },
  {
   "cell_type": "code",
   "execution_count": null,
   "metadata": {},
   "outputs": [],
   "source": [
    "for x in seq: print(x)"
   ]
  },
  {
   "cell_type": "code",
   "execution_count": null,
   "metadata": {},
   "outputs": [],
   "source": [
    "for x in seq:\n",
    "    print(x)\n",
    "else:\n",
    "    print('All done!')"
   ]
  },
  {
   "cell_type": "code",
   "execution_count": null,
   "metadata": {},
   "outputs": [],
   "source": [
    "for x in seq:\n",
    "    print(x)\n",
    "    if x == 26:\n",
    "        print('Oh no! We encountered 26!')\n",
    "        break\n",
    "else:\n",
    "    print('All done!')"
   ]
  },
  {
   "cell_type": "code",
   "execution_count": null,
   "metadata": {},
   "outputs": [],
   "source": [
    "# Buil-in library import\n",
    "import random\n",
    "\n",
    "# Define the haystack size and choose a secret index at which the needle may appear\n",
    "haystack_length = 1000\n",
    "haystack = [0] * haystack_length\n",
    "secret_index = random.randint(0, haystack_length - 1)\n",
    "\n",
    "# Needle appears within the secret haystack index randomly (coin flip)\n",
    "if random.random() > 0.5:\n",
    "    haystack[secret_index] = 1\n",
    "\n",
    "for i, x in enumerate(haystack):\n",
    "    if x:\n",
    "        print(f'Needle\\'s position in the haystack is {i}')\n",
    "        break\n",
    "\n",
    "# else clause happens if no break was encountered\n",
    "else:\n",
    "    print('Needle is not in the haystack')"
   ]
  },
  {
   "cell_type": "code",
   "execution_count": null,
   "metadata": {},
   "outputs": [],
   "source": [
    "x = 1, 4, 10, -10\n",
    "the_sum = 0\n",
    "\n",
    "for value in x:\n",
    "#     the_sum += value\n",
    "    the_sum = the_sum + value\n",
    "    \n",
    "the_sum"
   ]
  },
  {
   "cell_type": "code",
   "execution_count": null,
   "metadata": {},
   "outputs": [],
   "source": [
    "for c in 'My favourite color is blue':\n",
    "    if c in 'color':\n",
    "        print(\"c is in the string color\")\n",
    "    elif c in ['f', 'b']:\n",
    "        print(\"c is either f or b\")\n",
    "        print(c)"
   ]
  },
  {
   "cell_type": "markdown",
   "metadata": {},
   "source": [
    "### `Exercise 5 - Palindrome`\n",
    "Write a python program that checks if the `input()` string is a **palindrome** - word, number, phrase, or other sequence of characters which reads the same backward as forward, e.g.: madam, bob, 12121.\n",
    "\n",
    "    Input string: abc\n",
    "    \n",
    "Expected output:\n",
    "    \n",
    "    String 'abc' is not a palindrome.\n",
    "    \n",
    "    String '121' is a palindrome."
   ]
  },
  {
   "cell_type": "code",
   "execution_count": null,
   "metadata": {},
   "outputs": [],
   "source": []
  },
  {
   "cell_type": "markdown",
   "metadata": {},
   "source": [
    "### `Exercise 6 - Moving Averages`\n",
    "Write a python program iterates over a list of numbers and calculates 3 different means throughout the `for` cycle:\n",
    "\n",
    "- Cumulative mean - the current average (up to the current `for` iteration), should be printed during each cycle.\n",
    "- Moving average - mean of the last three itegers observed within the `for` cycle, should be printed during each cycle\n",
    "- Total average - should be printed at the end of the cycle.\n",
    "\n",
    "E.g.:\n",
    "\n",
    "    input_list = [10, 15, 30, 40]\n",
    "    \n",
    "Expected output:\n",
    "    \n",
    "    Iterating over `input_list`...\n",
    "    \n",
    "    Index: 0    Number: 10    Cumulative Mean: 10    Moving:   10  \n",
    "    Index: 1    Number: 20    Cumulative Mean: 15    Moving:   15  \n",
    "    Index: 2    Number: 30    Cumulative Mean: 20    Moving:   20  \n",
    "    Index: 3    Number: 40    Cumulative Mean: 25    Moving:   30  \n",
    "    \n",
    "    Total Mean: 25"
   ]
  },
  {
   "cell_type": "code",
   "execution_count": null,
   "metadata": {},
   "outputs": [],
   "source": []
  },
  {
   "cell_type": "markdown",
   "metadata": {},
   "source": [
    "## ``while`` loops\n",
    "The other type of loop in Python is a ``while`` loop, which iterates until some condition is met:"
   ]
  },
  {
   "cell_type": "code",
   "execution_count": null,
   "metadata": {},
   "outputs": [],
   "source": [
    "i = 1\n",
    "while i < 5:\n",
    "    print(f'i is {i}')\n",
    "    i = i + 1"
   ]
  },
  {
   "cell_type": "code",
   "execution_count": null,
   "metadata": {},
   "outputs": [],
   "source": [
    "def calculate_gradient(a, b):\n",
    "    return b-a\n",
    "\n",
    "a = int(input('Enter A: '))\n",
    "b = int(input('Enter B: '))\n",
    "\n",
    "grad = calculate_gradient(a, b)\n",
    "grad += 100\n",
    "grad /= 10\n",
    "\n",
    "while a < b:\n",
    "    grad = calculate_gradient(a, b)\n",
    "    grad += 100\n",
    "    grad /= 10\n",
    "\n",
    "print(grad)"
   ]
  },
  {
   "cell_type": "markdown",
   "metadata": {},
   "source": [
    "### `while` with `break` and `continue`"
   ]
  },
  {
   "cell_type": "code",
   "execution_count": null,
   "metadata": {},
   "outputs": [],
   "source": [
    "i = 100\n",
    "\n",
    "while True:\n",
    "    print(i)\n",
    "    if i >= 10:\n",
    "        break\n",
    "    i += 1"
   ]
  },
  {
   "cell_type": "code",
   "execution_count": null,
   "metadata": {},
   "outputs": [],
   "source": [
    "# continue start a new loop cycle\n",
    "for n in range(12):\n",
    "    if n % 2 == 0:\n",
    "        continue\n",
    "    print(n, end=', ')"
   ]
  },
  {
   "cell_type": "markdown",
   "metadata": {},
   "source": [
    "### `else` for `while` and `for` loops"
   ]
  },
  {
   "cell_type": "code",
   "execution_count": null,
   "metadata": {},
   "outputs": [],
   "source": [
    "for i in range(5):\n",
    "    print(i)\n",
    "#     if i == 3: break\n",
    "else:\n",
    "    print('I\\'m done')"
   ]
  },
  {
   "cell_type": "code",
   "execution_count": null,
   "metadata": {},
   "outputs": [],
   "source": [
    "loss = 10\n",
    "target_loss = 5\n",
    "while target_loss < loss:\n",
    "    print('Training: current loss is {}'.format(loss))\n",
    "    loss -= 1\n",
    "else:\n",
    "    print('Finished training')"
   ]
  },
  {
   "cell_type": "code",
   "execution_count": null,
   "metadata": {},
   "outputs": [],
   "source": [
    "l = []\n",
    "n = 15\n",
    "\n",
    "for i in range(2, n):\n",
    "    for factor in l:\n",
    "        if i % factor == 0:\n",
    "            break\n",
    "    else:\n",
    "#         this only happens if there was no break\n",
    "        l.append(i)\n",
    "\n",
    "print(l)"
   ]
  },
  {
   "cell_type": "markdown",
   "metadata": {},
   "source": [
    "### `Exercise 7 - Factorial While`\n",
    "Write a python program to print out the factorials for all of the numbers up to `N` using `while`. E.g.:\n",
    "\n",
    "    Your input number: 3\n",
    "    \n",
    "    1! = 1\n",
    "    2! = 2\n",
    "    3! = 6\n",
    "    4! = 24\n",
    "    ...\n",
    "  \n",
    "`Hint` Don't input high values (e.g., `>100`), it gets messy real quick. Even better, add a `break` statement at some chosen threshold value, or use `input()` with `if` and `then` to guide the user in providing an input that is small enough if necessary."
   ]
  },
  {
   "cell_type": "code",
   "execution_count": null,
   "metadata": {},
   "outputs": [],
   "source": []
  },
  {
   "cell_type": "markdown",
   "metadata": {},
   "source": [
    "### `Exercise 8 - While There is a Needle in the Haystack`\n",
    "Adapt the needle in the haystack example above using `while`. \n",
    "The program should go through the haystack indices until the needle is found. If so, it should print out where, or otherwise state that the needle was not found. "
   ]
  },
  {
   "cell_type": "code",
   "execution_count": null,
   "metadata": {},
   "outputs": [],
   "source": []
  },
  {
   "cell_type": "markdown",
   "metadata": {},
   "source": [
    "### `Exercise 9 - Token Count`\n",
    "In this example, you should create a Python script that would read the contents of a given text file and calculate the amount of times each word occurs within it. Then, it should print `N` most commonly occuring values. To make it simpler, you already have a provided backbone script for reading the file and obtaining a list of tokens from it."
   ]
  },
  {
   "cell_type": "code",
   "execution_count": null,
   "metadata": {},
   "outputs": [],
   "source": [
    "input_file_path = 'data/clinton_trump_corpus/Trump/Trump_2016-11-09.txt'\n",
    "\n",
    "with open(input_file_path, 'r') as inputfile:\n",
    "    tokens = inputfile.read().lower().split()\n",
    "    tokens = [t.strip() for t in tokens if t.isalpha()]\n",
    "\n",
    "# TODO: COUNT THE TOKENS"
   ]
  },
  {
   "cell_type": "code",
   "execution_count": null,
   "metadata": {},
   "outputs": [],
   "source": []
  },
  {
   "cell_type": "markdown",
   "metadata": {},
   "source": [
    "_____\n",
    "## Comprehensions\n",
    "Comprehensions are one of the Pythons features that allow to compress large functions with many control flow statements into a single, short, and readable line.\n",
    "_____\n",
    "## List comprehensions\n",
    "Here is a basic loop that constructs a list of squares for the numbers provided in `nums`:"
   ]
  },
  {
   "cell_type": "code",
   "execution_count": null,
   "metadata": {},
   "outputs": [],
   "source": [
    "nums = [1, 2, 3, 4]\n",
    "results = []\n",
    "for item in nums:\n",
    "    results.append(item**2)\n",
    "\n",
    "results"
   ]
  },
  {
   "cell_type": "code",
   "execution_count": null,
   "metadata": {},
   "outputs": [],
   "source": [
    "results = [item ** 2 for item in nums]\n",
    "results"
   ]
  },
  {
   "cell_type": "markdown",
   "metadata": {},
   "source": [
    "### `Exercise 10 - Ra(n)ging Comprehension`\n",
    "Use list comprehension to obtain the following given input `5`:\n",
    "\n",
    "    [[0, 1, 2, 3, 4], [1, 2, 3, 4], [2, 3, 4], [3, 4], [4]]"
   ]
  },
  {
   "cell_type": "code",
   "execution_count": null,
   "metadata": {},
   "outputs": [],
   "source": []
  },
  {
   "cell_type": "markdown",
   "metadata": {},
   "source": []
  },
  {
   "cell_type": "markdown",
   "metadata": {},
   "source": [
    "### `Exercise 11 - Flatten`\n",
    "Write a script that would flatten the list obtained in `Exercise 10`. E.g., when given a list of lists as an input, you should return a single list containing all of the elements."
   ]
  },
  {
   "cell_type": "code",
   "execution_count": null,
   "metadata": {},
   "outputs": [],
   "source": []
  },
  {
   "cell_type": "markdown",
   "metadata": {},
   "source": [
    "### `Exercise 12 - Flatten Comprehension`\n",
    "Recreate the `Exercise 11`, as well as the functions given below in a list comprehension form."
   ]
  },
  {
   "cell_type": "code",
   "execution_count": null,
   "metadata": {},
   "outputs": [],
   "source": []
  },
  {
   "cell_type": "code",
   "execution_count": null,
   "metadata": {},
   "outputs": [],
   "source": [
    "flat_list = []\n",
    "\n",
    "for inner_list in data:\n",
    "    if len(inner_list) % 2 == 1:\n",
    "        for item in inner_list:\n",
    "            flat_list.append(item)\n",
    "        \n",
    "flat_list"
   ]
  },
  {
   "cell_type": "code",
   "execution_count": null,
   "metadata": {},
   "outputs": [],
   "source": []
  },
  {
   "cell_type": "code",
   "execution_count": null,
   "metadata": {},
   "outputs": [],
   "source": [
    "flat_list = [\n",
    "    item\n",
    "    for inner_list in data\n",
    "    if len(inner_list) % 2 == 1\n",
    "    for item in inner_list\n",
    "]\n",
    "flat_list"
   ]
  },
  {
   "cell_type": "code",
   "execution_count": null,
   "metadata": {},
   "outputs": [],
   "source": []
  },
  {
   "cell_type": "code",
   "execution_count": null,
   "metadata": {},
   "outputs": [],
   "source": [
    "flat_list = []\n",
    "\n",
    "for inner_list in data:\n",
    "    if len(inner_list) % 2 == 1:\n",
    "        for item in inner_list:\n",
    "            if item % 2 == 0:\n",
    "                flat_list.append(item)\n",
    "        \n",
    "flat_list"
   ]
  },
  {
   "cell_type": "code",
   "execution_count": null,
   "metadata": {},
   "outputs": [],
   "source": []
  },
  {
   "cell_type": "code",
   "execution_count": null,
   "metadata": {},
   "outputs": [],
   "source": [
    "flat_list = [\n",
    "    item\n",
    "    for inner_list in data\n",
    "    if len(inner_list) % 2 == 1\n",
    "    for item in inner_list\n",
    "    if item % 2 == 0\n",
    "]\n",
    "flat_list"
   ]
  },
  {
   "cell_type": "code",
   "execution_count": null,
   "metadata": {},
   "outputs": [],
   "source": []
  },
  {
   "cell_type": "markdown",
   "metadata": {},
   "source": [
    "## Dictionary comprehensions"
   ]
  },
  {
   "cell_type": "code",
   "execution_count": null,
   "metadata": {},
   "outputs": [],
   "source": [
    "keys = list('abcdefg')\n",
    "values = list(range(1, len(keys)))\n",
    "keys, values"
   ]
  },
  {
   "cell_type": "code",
   "execution_count": null,
   "metadata": {},
   "outputs": [],
   "source": [
    "alphabet = {}\n",
    "for key, value in zip(keys, values):\n",
    "    alphabet[key] = value\n",
    "    \n",
    "alphabet"
   ]
  },
  {
   "cell_type": "code",
   "execution_count": null,
   "metadata": {},
   "outputs": [],
   "source": [
    "alphabet = {key: value for key, value in zip(keys, values)}\n",
    "alphabet"
   ]
  },
  {
   "cell_type": "markdown",
   "metadata": {},
   "source": [
    "### `Exercise 13 - Better than comprehension?`\n",
    "Comprehensions are amazing, but sometimes there are better solutions. Make the previous version shorted and more Pythonic."
   ]
  },
  {
   "cell_type": "code",
   "execution_count": null,
   "metadata": {},
   "outputs": [],
   "source": []
  },
  {
   "cell_type": "markdown",
   "metadata": {},
   "source": [
    "## Set comprehensions"
   ]
  },
  {
   "cell_type": "code",
   "execution_count": null,
   "metadata": {},
   "outputs": [],
   "source": [
    "alphabet = {letter for letter in 'alphabet_alphabet'}\n",
    "alphabet"
   ]
  },
  {
   "cell_type": "markdown",
   "metadata": {},
   "source": [
    "Again, there is a better solution and you know it..."
   ]
  },
  {
   "cell_type": "code",
   "execution_count": null,
   "metadata": {},
   "outputs": [],
   "source": []
  },
  {
   "cell_type": "markdown",
   "metadata": {},
   "source": [
    "### `Exercise 14 - Built-in Comprehension`\n",
    "Find the ascii keys for the letters in 'alphabet_alphabet'. \n",
    "\n",
    "`Hint`: there is a built-in string method for that, tru finding it within Python documentation or online."
   ]
  },
  {
   "cell_type": "code",
   "execution_count": null,
   "metadata": {},
   "outputs": [],
   "source": []
  }
 ],
 "metadata": {
  "kernelspec": {
   "display_name": "Python 3",
   "language": "python",
   "name": "python3"
  },
  "language_info": {
   "codemirror_mode": {
    "name": "ipython",
    "version": 3
   },
   "file_extension": ".py",
   "mimetype": "text/x-python",
   "name": "python",
   "nbconvert_exporter": "python",
   "pygments_lexer": "ipython3",
   "version": "3.6.7"
  }
 },
 "nbformat": 4,
 "nbformat_minor": 2
}
